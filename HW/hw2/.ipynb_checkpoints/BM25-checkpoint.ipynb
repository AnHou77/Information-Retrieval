{
 "cells": [
  {
   "cell_type": "code",
   "execution_count": 1,
   "metadata": {},
   "outputs": [],
   "source": [
    "import numpy as np\n",
    "import pandas as pd\n",
    "import math\n",
    "from nltk.corpus import PlaintextCorpusReader"
   ]
  },
  {
   "cell_type": "markdown",
   "metadata": {},
   "source": [
    "# Preprocess"
   ]
  },
  {
   "cell_type": "code",
   "execution_count": 2,
   "metadata": {},
   "outputs": [
    {
     "name": "stdout",
     "output_type": "stream",
     "text": [
      "4191 4191\n",
      "50 50\n"
     ]
    }
   ],
   "source": [
    "# 使用 nltk PlaintextCorpusReader 存取指定目錄下的所有檔案\n",
    "doc_corpus_root = './ntust-ir-2020/docs'\n",
    "query_corpus_root = './ntust-ir-2020/queries'\n",
    "doc_corpus = PlaintextCorpusReader(doc_corpus_root, '.*')\n",
    "query_corpus = PlaintextCorpusReader(query_corpus_root, '.*')\n",
    "\n",
    "# 將 document 依序 存取內容與檔名\n",
    "doc_names = []\n",
    "doc_terms = []\n",
    "for docs in doc_corpus.fileids():\n",
    "    words = doc_corpus.raw(docs)\n",
    "    # 檔名篩掉.txt\n",
    "    doc_names.append(docs[:len(docs) - 4])\n",
    "    doc_terms.append(words)\n",
    "\n",
    "# 將 query 依序 存取內容與檔名\n",
    "query_names = []\n",
    "query_terms = []\n",
    "for queries in query_corpus.fileids():\n",
    "    words = query_corpus.raw(queries)\n",
    "    # 檔名篩掉.txt\n",
    "    query_names.append(queries[:len(queries) - 4])\n",
    "    query_terms.append(words)\n",
    "\n",
    "# 確認長度相符\n",
    "print(len(doc_names),len(doc_terms))\n",
    "print(len(query_names),len(query_terms))"
   ]
  },
  {
   "cell_type": "markdown",
   "metadata": {},
   "source": [
    "# Function"
   ]
  },
  {
   "cell_type": "code",
   "execution_count": 7,
   "metadata": {},
   "outputs": [],
   "source": [
    "# 給一個指定的詞與文件 找出tf\n",
    "def get_tf(term,document):\n",
    "    split_doc = document.lower().split()\n",
    "    term_in_doc = split_doc.count(term.lower())\n",
    "    total_words_in_doc = len(split_doc)\n",
    "    return term_in_doc\n",
    "\n",
    "# 給一個指定的詞與一堆文件 找出idf\n",
    "def get_idf(term,documents):\n",
    "    df = 0\n",
    "    for document in documents:\n",
    "        split_doc = document.lower().split()\n",
    "        if term.lower() in split_doc:\n",
    "            df += 1\n",
    "    if df == 0:\n",
    "        return 0\n",
    "    else:\n",
    "        idf = math.log10((float(len(documents)) - df + 0.5) / (df + 0.5))\n",
    "        return idf\n",
    "\n",
    "# 給一個指定的詞與一堆文件 可指定BM25欲使用的參數 最後回傳bm25的矩陣\n",
    "def get_bm25_matrix(query, documents, k1 = 3, k3 = 1000, b = 0.85):\n",
    "    query_split = query.lower().split()\n",
    "    tfidf_matrix = np.zeros((len(query_split), len(documents)))\n",
    "    avg_doc_length = get_average_document_length(documents)\n",
    "    \n",
    "    # w_d為document weight\n",
    "    # w_q為query weight\n",
    "    # 最後算法為 idf * w_d * w_q\n",
    "    for i, term in enumerate(query_split):\n",
    "        idf = get_idf(term, documents)\n",
    "        for j, doc in enumerate(documents):\n",
    "            doc_length = len(doc.lower().split())\n",
    "            tf = get_tf(term, doc)\n",
    "            tf_q = get_tf(term,query)\n",
    "            _f = tf / (1 - b + b * doc_length / avg_doc_length)\n",
    "            w_d = (k1 + 1) * (_f + 0.5) / (k1 + _f + 0.5)\n",
    "            w_q = (k3 + 1) * tf_q / (k3 + tf_q)\n",
    "            tfidf_matrix[i][j] = idf * w_d * w_q\n",
    "    return tfidf_matrix\n",
    "\n",
    "# 取文件平均長度\n",
    "def get_average_document_length(documents):\n",
    "    size = 0\n",
    "    for doc in documents:\n",
    "        split_doc = doc.lower().split()\n",
    "        size += len(split_doc)\n",
    "    return size / len(documents)"
   ]
  },
  {
   "cell_type": "markdown",
   "metadata": {},
   "source": [
    "# BM25 ranking and sort"
   ]
  },
  {
   "cell_type": "code",
   "execution_count": 8,
   "metadata": {},
   "outputs": [],
   "source": [
    "# 讀檔、寫入答案\n",
    "ans = \"Query,RetrievedDocuments\"\n",
    "f = open(\"vsm_result.txt\",\"a+\")\n",
    "f.write(ans+'\\n')\n",
    "\n",
    "buf = \"\"\n",
    "\n",
    "# 依序讀取query 並找出每個query與所有文件的相似度排序\n",
    "for i in range(len(query_terms)):\n",
    "    \n",
    "    buf = query_names[i] + ','\n",
    "    \n",
    "    first = True\n",
    "    \n",
    "    # 將query丟進函式 取得bm25的矩陣\n",
    "    bm25_matrix = get_bm25_matrix(query_terms[i],doc_terms)\n",
    "    \n",
    "    # 將此query所有詞在文件中的bm25分數做加總 後存入v中以利排序\n",
    "    v = []\n",
    "    for d in range(len(bm25_matrix[0])):\n",
    "        score = 0\n",
    "        for q in range(len(bm25_matrix)):\n",
    "            score += bm25_matrix[q][d]\n",
    "        v.append(score)\n",
    "    \n",
    "    # 將計算後的value由大到小做排序 並取其index \n",
    "    sort = [index for index, value in sorted(enumerate(v), key=lambda item: item[1],reverse=True)]\n",
    "    \n",
    "    # 將排序後結果依序輸出至檔案\n",
    "    for s in sort:\n",
    "        if first == True:\n",
    "            buf += doc_names[s]\n",
    "        else:\n",
    "            buf += (' ' + doc_names[s])\n",
    "        first = False\n",
    "        \n",
    "    f.write(buf+'\\n')"
   ]
  }
 ],
 "metadata": {
  "kernelspec": {
   "display_name": "Python 3",
   "language": "python",
   "name": "python3"
  },
  "language_info": {
   "codemirror_mode": {
    "name": "ipython",
    "version": 3
   },
   "file_extension": ".py",
   "mimetype": "text/x-python",
   "name": "python",
   "nbconvert_exporter": "python",
   "pygments_lexer": "ipython3",
   "version": "3.7.3"
  }
 },
 "nbformat": 4,
 "nbformat_minor": 4
}
