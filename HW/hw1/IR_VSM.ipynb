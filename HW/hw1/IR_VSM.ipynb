{
 "cells": [
  {
   "cell_type": "code",
   "execution_count": 1,
   "metadata": {},
   "outputs": [],
   "source": [
    "import numpy as np\n",
    "import pandas as pd\n",
    "import math\n",
    "from nltk.corpus import PlaintextCorpusReader\n",
    "from nltk.text import Text\n",
    "import nltk"
   ]
  },
  {
   "cell_type": "markdown",
   "metadata": {},
   "source": [
    "# Preprocess"
   ]
  },
  {
   "cell_type": "code",
   "execution_count": 2,
   "metadata": {},
   "outputs": [
    {
     "name": "stdout",
     "output_type": "stream",
     "text": [
      "4191 4191\n",
      "50 50\n"
     ]
    }
   ],
   "source": [
    "# 使用 nltk PlaintextCorpusReader 存取指定目錄下的所有檔案\n",
    "doc_corpus_root = './ntust-ir-2020/docs'\n",
    "query_corpus_root = './ntust-ir-2020/queries'\n",
    "doc_corpus = PlaintextCorpusReader(doc_corpus_root, '.*')\n",
    "query_corpus = PlaintextCorpusReader(query_corpus_root, '.*')\n",
    "\n",
    "# 將 document 依序 存取內容與檔名\n",
    "doc_names = []\n",
    "doc_terms = []\n",
    "for docs in doc_corpus.fileids():\n",
    "    words = doc_corpus.raw(docs)\n",
    "    # 檔名篩掉.txt\n",
    "    doc_names.append(docs[:len(docs) - 4])\n",
    "    doc_terms.append(words)\n",
    "\n",
    "# 將 query 依序 存取內容與檔名\n",
    "query_names = []\n",
    "query_terms = []\n",
    "for queries in query_corpus.fileids():\n",
    "    words = query_corpus.raw(queries)\n",
    "    # 檔名篩掉.txt\n",
    "    query_names.append(queries[:len(queries) - 4])\n",
    "    query_terms.append(words)\n",
    "\n",
    "# 確認長度相符\n",
    "print(len(doc_names),len(doc_terms))\n",
    "print(len(query_names),len(query_terms))"
   ]
  },
  {
   "cell_type": "markdown",
   "metadata": {},
   "source": [
    "# Function"
   ]
  },
  {
   "cell_type": "code",
   "execution_count": 3,
   "metadata": {},
   "outputs": [],
   "source": [
    "# 給一個指定的詞與文件 找出tf\n",
    "def get_tf(term,document):\n",
    "    split_doc = document.lower().split()\n",
    "    term_in_doc = split_doc.count(term.lower())\n",
    "    total_words_in_doc = len(split_doc)\n",
    "    if total_words_in_doc == 0:\n",
    "        return 0\n",
    "    else:\n",
    "        tf = term_in_doc / float(total_words_in_doc)\n",
    "        if tf == 0:\n",
    "            return 0\n",
    "        else:\n",
    "            return 4 + math.log10(tf)\n",
    "\n",
    "# 給一個指定的詞與一堆文件 找出idf\n",
    "def get_idf(term,documents):\n",
    "    df = 0\n",
    "    for document in documents:\n",
    "        split_doc = document.lower().split()\n",
    "        if term.lower() in split_doc:\n",
    "            df += 1\n",
    "    if df == 0:\n",
    "        return 0\n",
    "    else:\n",
    "        idf = math.log10(1 + (float(len(documents)) + 0.0) / (df + 0.0))\n",
    "        return idf\n",
    "\n",
    "# 給一指定的query與一堆文件 作出document的tfidf矩陣\n",
    "def get_doc_matrix(query, documents):\n",
    "    query_split = query.lower().split()\n",
    "    tfidf_matrix = np.zeros((len(query_split), len(documents)))\n",
    "    for i, term in enumerate(query_split):\n",
    "        idf = get_idf(term, documents)\n",
    "        for j, doc in enumerate(documents):\n",
    "            tfidf_matrix[i][j] = idf * get_tf(term, doc)\n",
    "    return tfidf_matrix\n",
    "\n",
    "# 給一指定的query與一堆文件 作出query的tfidf向量\n",
    "def get_query_vector(query, documents):\n",
    "    count = {}\n",
    "    query_split = query.lower().split()\n",
    "    for term in query_split:\n",
    "        if term in count:\n",
    "            count[term] += 1\n",
    "        else:\n",
    "            count[term] = 1\n",
    "    vector = []\n",
    "    for i, term in enumerate(query_split):\n",
    "        tf = count[term] / float(len(count))\n",
    "        if tf == 0:\n",
    "            vector.append(0)\n",
    "        else:\n",
    "            vector.append((1 + math.log10(tf)) * get_idf(term, documents))\n",
    "    return vector"
   ]
  },
  {
   "cell_type": "markdown",
   "metadata": {},
   "source": [
    "# VSM ranking and sort"
   ]
  },
  {
   "cell_type": "code",
   "execution_count": 27,
   "metadata": {},
   "outputs": [],
   "source": [
    "# 讀檔、寫入答案\n",
    "ans = \"Query,RetrievedDocuments\"\n",
    "f = open(\"vsm_result.txt\",\"a+\")\n",
    "f.write(ans+'\\n')\n",
    "\n",
    "buf = \"\"\n",
    "\n",
    "# 依序讀取query 並找出每個query與所有文件的相似度排序\n",
    "for i in range(len(query_terms)):\n",
    "    \n",
    "    buf = query_names[i] + ','\n",
    "    \n",
    "    first = True\n",
    "    \n",
    "    # 取得 d矩陣 與 q向量\n",
    "    doc_tfidf_matrix = get_doc_matrix(query_terms[i],doc_terms)\n",
    "    q = get_query_vector(query_terms[i],doc_terms)\n",
    "    \n",
    "    # 為與 query vector 做內積 須轉換 matrix shape\n",
    "    d = []\n",
    "    for x in range(len(doc_tfidf_matrix[0])):\n",
    "        buff = []\n",
    "        for y in range(len(q)):\n",
    "            buff.append(doc_tfidf_matrix[y][x])\n",
    "        d.append(buff)\n",
    "    \n",
    "    # 依序將 d矩陣中每個 d向量與q向量做內積 後除以文件長度n\n",
    "    v = []\n",
    "    for it in range(len(d)):\n",
    "        n = len(doc_terms[it].lower().split())\n",
    "        if n == 0:\n",
    "            v.append(0)\n",
    "        else:\n",
    "            v.append(np.dot(d[it],np.multiply(q,q)) / n)\n",
    "    \n",
    "    # 將計算後的value由大到小做排序 並取其index \n",
    "    sort = [index for index, value in sorted(enumerate(v), key=lambda item: item[1],reverse=True)]\n",
    "    \n",
    "    # 將排序後結果依序輸出至檔案\n",
    "    for s in sort:\n",
    "        if first == True:\n",
    "            buf += doc_names[s]\n",
    "        else:\n",
    "            buf += (' ' + doc_names[s])\n",
    "        first = False\n",
    "        \n",
    "    f.write(buf+'\\n')"
   ]
  }
 ],
 "metadata": {
  "kernelspec": {
   "display_name": "Python 3",
   "language": "python",
   "name": "python3"
  },
  "language_info": {
   "codemirror_mode": {
    "name": "ipython",
    "version": 3
   },
   "file_extension": ".py",
   "mimetype": "text/x-python",
   "name": "python",
   "nbconvert_exporter": "python",
   "pygments_lexer": "ipython3",
   "version": "3.7.3"
  }
 },
 "nbformat": 4,
 "nbformat_minor": 4
}
